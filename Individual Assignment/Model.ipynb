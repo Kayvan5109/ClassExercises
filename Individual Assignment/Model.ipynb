{
 "cells": [
  {
   "cell_type": "code",
   "execution_count": 1,
   "metadata": {},
   "outputs": [],
   "source": [
    "import pandas as pd \n",
    "from sklearn.model_selection import train_test_split \n",
    "from sklearn.feature_extraction.text import TfidfVectorizer\n",
    "from sklearn.linear_model import LogisticRegression\n",
    "from sklearn.svm import LinearSVC\n",
    "from sklearn.metrics import accuracy_score, f1_score\n",
    "import xgboost as xgb"
   ]
  },
  {
   "cell_type": "code",
   "execution_count": 2,
   "metadata": {},
   "outputs": [],
   "source": [
    "#Load data\n",
    "train_df = pd.read_csv('train.csv')\n",
    "test_df = pd.read_csv('test.csv')"
   ]
  },
  {
   "cell_type": "code",
   "execution_count": 3,
   "metadata": {},
   "outputs": [],
   "source": [
    "#preprocess data\n",
    "train_df[\"text\"] = train_df[\"benefits_review\"] + \" \" + train_df[\"side_effects_review\"] + \" \" + train_df[\"comments_review\"]\n",
    "test_df[\"text\"] = test_df[\"benefits_review\"] + \" \" + test_df[\"side_effects_review\"] + \" \" + test_df[\"comments_review\"]"
   ]
  },
  {
   "cell_type": "code",
   "execution_count": 4,
   "metadata": {},
   "outputs": [],
   "source": [
    "#preprocess data\n",
    "train_df[\"sentiment\"] = train_df[\"rating\"].apply(lambda x: 1 if x >= 5 else 0)\n",
    "test_df[\"sentiment\"] = test_df[\"rating\"].apply(lambda x: 1 if x >= 5 else 0)"
   ]
  },
  {
   "cell_type": "code",
   "execution_count": 5,
   "metadata": {},
   "outputs": [],
   "source": [
    "#split into train and validation sets\n",
    "train_texts, val_texts, train_labels, val_labels = train_test_split(\n",
    "    train_df[\"text\"], train_df[\"sentiment\"], test_size=0.2, random_state=42)"
   ]
  },
  {
   "cell_type": "code",
   "execution_count": 6,
   "metadata": {},
   "outputs": [],
   "source": [
    "#initialize TFIDF Vectorizer\n",
    "vectorizer = TfidfVectorizer(stop_words=\"english\", max_features=10000)\n",
    "#fit vectorizer on training data\n",
    "X_train = vectorizer.fit_transform(train_texts)\n",
    "X_val = vectorizer.transform(val_texts)\n",
    "X_test = vectorizer.transform(test_df[\"text\"])"
   ]
  },
  {
   "cell_type": "code",
   "execution_count": 7,
   "metadata": {},
   "outputs": [],
   "source": [
    "#define models to train \n",
    "models = [\n",
    "    (\"Logistic Regression\", LogisticRegression(max_iter=1000)),\n",
    "    (\"Support Vector Machines\", LinearSVC(max_iter=10000)),\n",
    "    (\"XGBoost\", xgb.XGBClassifier(objective=\"binary:logistic\")),]"
   ]
  },
  {
   "cell_type": "code",
   "execution_count": 8,
   "metadata": {},
   "outputs": [
    {
     "name": "stdout",
     "output_type": "stream",
     "text": [
      "Logistic Regression - Accuracy: 0.8161290322580645 | F1 Score: 0.8956043956043956\n",
      "Support Vector Machines - Accuracy: 0.8338709677419355 | F1 Score: 0.8997078870496592\n",
      "XGBoost - Accuracy: 0.8096774193548387 | F1 Score: 0.8867562380038387\n"
     ]
    }
   ],
   "source": [
    "#train models, eval performance \n",
    "for name, model in models:\n",
    "    model.fit(X_train, train_labels)\n",
    "    val_preds = model.predict(X_val)\n",
    "    print(f\"{name} - Accuracy: {accuracy_score(val_labels, val_preds)} | F1 Score: {f1_score(val_labels, val_preds)}\")"
   ]
  },
  {
   "cell_type": "code",
   "execution_count": 9,
   "metadata": {},
   "outputs": [],
   "source": [
    "from sklearn.model_selection import GridSearchCV"
   ]
  },
  {
   "cell_type": "code",
   "execution_count": 10,
   "metadata": {},
   "outputs": [
    {
     "name": "stdout",
     "output_type": "stream",
     "text": [
      "Best hyperparameters for SVM: {'C': 1, 'loss': 'hinge'}\n"
     ]
    }
   ],
   "source": [
    "#Use grid search to find best hyperparameters\n",
    "param_grid = {\n",
    "    \"C\": [0.1, 1, 10],\n",
    "    \"loss\": [\"hinge\", \"squared_hinge\"],\n",
    "}\n",
    "\n",
    "svm_grid_search = GridSearchCV(LinearSVC(max_iter=10000), param_grid, scoring=\"f1\", cv=5, n_jobs=-1)\n",
    "\n",
    "svm_grid_search.fit(X_train, train_labels)\n",
    "\n",
    "print(\"Best hyperparameters for SVM:\", svm_grid_search.best_params_)"
   ]
  },
  {
   "cell_type": "code",
   "execution_count": 11,
   "metadata": {},
   "outputs": [
    {
     "data": {
      "text/plain": [
       "LinearSVC(C=1, loss='hinge', max_iter=10000)"
      ]
     },
     "execution_count": 11,
     "metadata": {},
     "output_type": "execute_result"
    }
   ],
   "source": [
    "#train best SVM model using best hyperparameters\n",
    "best_svm = LinearSVC(max_iter=10000, **svm_grid_search.best_params_)\n",
    "best_svm.fit(X_train, train_labels)"
   ]
  },
  {
   "cell_type": "code",
   "execution_count": 12,
   "metadata": {},
   "outputs": [
    {
     "name": "stdout",
     "output_type": "stream",
     "text": [
      "Best SVM Model - Accuracy: 0.8233590733590733 | F1 Score: 0.8942807625649912\n"
     ]
    }
   ],
   "source": [
    "test_preds = best_svm.predict(X_test)\n",
    "print(f\"Best SVM Model - Accuracy: {accuracy_score(test_df['sentiment'], test_preds)} | F1 Score: {f1_score(test_df['sentiment'], test_preds)}\")"
   ]
  },
  {
   "cell_type": "code",
   "execution_count": 13,
   "metadata": {},
   "outputs": [],
   "source": [
    "#Save SVM model and vectorizer as pickle file\n",
    "import pickle\n",
    "\n",
    "with open(\"best_svm_model.pkl\", \"wb\") as f:\n",
    "    pickle.dump(best_svm, f)\n",
    "\n",
    "with open(\"vectorizer.pkl\", \"wb\") as f:\n",
    "    pickle.dump(vectorizer, f)"
   ]
  }
 ],
 "metadata": {
  "kernelspec": {
   "display_name": "base",
   "language": "python",
   "name": "python3"
  },
  "language_info": {
   "codemirror_mode": {
    "name": "ipython",
    "version": 3
   },
   "file_extension": ".py",
   "mimetype": "text/x-python",
   "name": "python",
   "nbconvert_exporter": "python",
   "pygments_lexer": "ipython3",
   "version": "3.9.13"
  },
  "orig_nbformat": 4
 },
 "nbformat": 4,
 "nbformat_minor": 2
}
